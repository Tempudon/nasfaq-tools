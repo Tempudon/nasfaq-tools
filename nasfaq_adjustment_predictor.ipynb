{
  "nbformat": 4,
  "nbformat_minor": 0,
  "metadata": {
    "colab": {
      "name": "nasfaq-adjustment-predictor.ipynb",
      "provenance": [],
      "collapsed_sections": [],
      "authorship_tag": "ABX9TyNklEzDQkLYjGDywXuLOy4D"
    },
    "kernelspec": {
      "name": "python3",
      "display_name": "Python 3"
    },
    "language_info": {
      "name": "python"
    }
  },
  "cells": [
    {
      "cell_type": "code",
      "metadata": {
        "colab": {
          "base_uri": "https://localhost:8080/"
        },
        "id": "lEwO_gejFjhN",
        "outputId": "2989b7c3-29e8-4583-8994-58624414bed2"
      },
      "source": [
        "!pip install requests\n",
        "!pip install tzdata"
      ],
      "execution_count": 3,
      "outputs": [
        {
          "output_type": "stream",
          "name": "stdout",
          "text": [
            "Requirement already satisfied: requests in /usr/local/lib/python3.7/dist-packages (2.23.0)\n",
            "Requirement already satisfied: idna<3,>=2.5 in /usr/local/lib/python3.7/dist-packages (from requests) (2.10)\n",
            "Requirement already satisfied: chardet<4,>=3.0.2 in /usr/local/lib/python3.7/dist-packages (from requests) (3.0.4)\n",
            "Requirement already satisfied: urllib3!=1.25.0,!=1.25.1,<1.26,>=1.21.1 in /usr/local/lib/python3.7/dist-packages (from requests) (1.24.3)\n",
            "Requirement already satisfied: certifi>=2017.4.17 in /usr/local/lib/python3.7/dist-packages (from requests) (2021.5.30)\n",
            "Requirement already satisfied: tzdata in /usr/local/lib/python3.7/dist-packages (2021.2.post0)\n"
          ]
        }
      ]
    },
    {
      "cell_type": "code",
      "metadata": {
        "colab": {
          "base_uri": "https://localhost:8080/"
        },
        "id": "xeRkd_ncNmf1",
        "outputId": "b865c637-f8d3-4902-cb6c-96c6b87ced00"
      },
      "source": [
        "import sys\n",
        "import json\n",
        "import os.path\n",
        "import requests\n",
        "import time\n",
        "from datetime import datetime,timedelta\n",
        "from time import mktime\n",
        "#from zoneinfo import ZoneInfo\n",
        "\n",
        "# for enabling and disabling the subs to view shit which is outdated and not valid anymore\n",
        "THEORETICAL_VIEWS = False\n",
        "\n",
        "# from colorama import init\n",
        "# from colorama import Fore, Style\n",
        "# init()\n",
        "\n",
        "HOLO_POI_URL = \"https://holoapi.poi.cat/api/v4/channels_report?ids={holo}&metrics=youtube_channel_subscriber,youtube_channel_view&startAt={startDate}&endAt={endDate}\"\n",
        "NASFAQ_URL = \"https://nasfaq.biz/api/getStats\"\n",
        "\n",
        "JSON_FILENAME = \"holostats.json\"\n",
        "\n",
        "\n",
        "# subs are possibly worth about 10k view for 1k subs\n",
        "# this doesn't apply anymore but I'm too lazy to scrub it out\n",
        "SUB_TO_VIEW_VALUE = 10000\n",
        "\n",
        "# list the holos by their generation according to nasfaq since\n",
        "# the lists returned by neither server does so\n",
        "# girls you dont want can just be removed from the list\n",
        "HOLOS = [\"hololive\", \"sora\", \"roboco\", \"miko\", \"suisei\", \"azki\", \n",
        "         \"mel\", \"fubuki\", \"matsuri\", \"aki\", \"haato\", \n",
        "         \"aqua\", \"shion\", \"ayame\", \"choco\", \"subaru\", \n",
        "         \"mio\", \"okayu\", \"korone\", \n",
        "         \"pekora\", \"rushia\", \"flare\", \"noel\", \"marine\", \n",
        "         \"kanata\", \"coco\", \"watame\", \"towa\", \"himemoriluna\", \n",
        "         \"lamy\", \"nene\", \"botan\", \"polka\", \n",
        "         \"risu\", \"moona\", \"iofi\", \n",
        "         \"calliope\", \"kiara\", \"inanis\", \"gura\", \"amelia\", \"irys\", \n",
        "         \"sana\", \"fauna\", \"kronii\", \"mumei\", \"baelz\",\n",
        "         \"ollie\", \"melfissa\", \"reine\", \n",
        "         \"ui\", \"nana\", \"pochimaru\", \"ayamy\", \"nabi\"]\n",
        "\n",
        "# need to ensure we dont get fucked by dumb time fuckery which includes dst\n",
        "#TIMEZONE = ZoneInfo(\"Australia/Brisbane\")\n",
        "#values for when adjustments occurs\n",
        "LOCAL_RESET_HOUR = 13\n",
        "#nasfaq\n",
        "LOCAL_ADJUSTMENT_MINUTE = 5\n",
        "#this is for holopoi\n",
        "LOCAL_RESET_MINUTE = 0\n",
        "# 12 hours\n",
        "REDOWNLOAD_STAT_TIME = 43200\n",
        "# testHolo = \"kanata\"\n",
        "\n",
        "# with open(\"data_file.json\", \"w\") as write_file:\n",
        "#     json.dump(data, write_file)\n",
        "currentTime = int(time.time() * 1e3) \n",
        "threeDaysMilliSeconds = 259200000\n",
        "\n",
        "threeDaysAgoTime = int((currentTime - threeDaysMilliSeconds))\n",
        "fourDaysMilliSeconds = 345600000\n",
        "\n",
        "fourDaysAgoTime = int((currentTime - fourDaysMilliSeconds))\n",
        "\n",
        "#response = requests.get(testHoloURL)\n",
        "statResponseJson = None\n",
        "if( not os.path.isfile(JSON_FILENAME)):\n",
        "    print(\"Creating {filename} and getting getStat\".format(filename=JSON_FILENAME))\n",
        "    res = requests.get(NASFAQ_URL)\n",
        "    res = res.json()\n",
        "    statResponseJson = res\n",
        "    curTime = mktime(datetime.now().timetuple())\n",
        "    jsonData = {}\n",
        "    jsonData[\"lastGrab\"] = curTime\n",
        "    jsonData[\"stats\"] = res\n",
        "    with open(JSON_FILENAME, \"w\", encoding=\"utf-8\") as statJSON:\n",
        "        json.dump(jsonData, statJSON)\n",
        "else:\n",
        "    res = None\n",
        "    with open(JSON_FILENAME, \"r+\", encoding=\"utf-8\") as statJSON:\n",
        "        res = json.load(statJSON)\n",
        "    curTime = mktime(datetime.now().timetuple())\n",
        "    if (curTime - res[\"lastGrab\"]) > REDOWNLOAD_STAT_TIME:\n",
        "        print(\"Updating getStat\")\n",
        "        res = requests.get(NASFAQ_URL)\n",
        "        res = res.json()\n",
        "        statResponseJson = res\n",
        "        jsonData = {}\n",
        "        jsonData[\"lastGrab\"] = curTime\n",
        "        jsonData[\"stats\"] = res\n",
        "        with open(JSON_FILENAME, \"w\", encoding=\"utf-8\") as statJSON:\n",
        "            json.dump(jsonData, statJSON)\n",
        "    else:\n",
        "        print(\"Using saved stats\")\n",
        "        statResponseJson = res[\"stats\"]\n",
        "\n",
        "coinHistory = json.loads(statResponseJson['coinHistory'])\n",
        "\n",
        "currentDate = datetime.now()\n",
        "dateFormat = \"{month}/{day}/{year}\"\n",
        "\n",
        "currentDateStamp = dateFormat.format(month = currentDate.strftime(\"%m\"), day = currentDate.strftime(\"%d\"), year = currentDate.strftime(\"%Y\"))\n",
        "\n",
        "holoList = statResponseJson['stats']\n",
        "poiStatCount ={}\n",
        "\n",
        "yesterdayAdjustmentTime = coinHistory[-1]['timestamp']\n",
        "# for tick in reversed(range(len(statResponseJson['coinInfo']['data']['aki']['history']))):\n",
        "#     pass\n",
        "#     curTimestamp = statResponseJson['coinInfo']['data']['aki']['history'][tick]['timestamp']\n",
        "#     curDate = datetime.fromtimestamp(curTimestamp / 1e3)\n",
        "#     curHour = curDate.hour\n",
        "#     curMinute = curDate.minute\n",
        "#     if (curHour == LOCAL_RESET_HOUR and LOCAL_ADJUSTMENT_MINUTE == curDate.minute and LOCAL_ADJUSTMENT_MINUTE == (curDate.minute - 1) and LOCAL_ADJUSTMENT_MINUTE == (curDate.minute + 1) ):\n",
        "#         yesterdayAdjustmentTime = curTimestamp\n",
        "\n",
        "yesterdayAdjustmentHistory = {}\n",
        "\n",
        "# for holo in statResponseJson['coinInfo']['data']:\n",
        "#     pass\n",
        "#     history = statResponseJson['coinInfo']['data'][holo]['history']\n",
        "#     for tick in reversed(range(len(history))):\n",
        "#         if(history[tick]['timestamp'] == yesterdayAdjustmentTime):\n",
        "#             pass\n",
        "#             yesterdayAdjustmentHistory[holo] = history[tick]\n",
        "for tick in reversed(range(len(coinHistory))):\n",
        "    pass\n",
        "    history = coinHistory\n",
        "    if(history[tick]['timestamp'] == yesterdayAdjustmentTime):\n",
        "        pass\n",
        "        yesterdayAdjustmentHistory = history[tick]['data']\n",
        "todayCoinHistory = {}\n",
        "for holo in coinHistory[-1]['data']:\n",
        "    pass\n",
        "    holoCoin = coinHistory[-1]['data'][holo]\n",
        "    todayCoinHistory[holo] = holoCoin\n",
        "\n",
        "# todayCoinHistory = statResponseJson['todayPrices'][-1][\"coinInfo\"]['data']\n"
      ],
      "execution_count": 4,
      "outputs": [
        {
          "output_type": "stream",
          "name": "stdout",
          "text": [
            "Creating holostats.json and getting getStat\n"
          ]
        }
      ]
    },
    {
      "cell_type": "code",
      "metadata": {
        "colab": {
          "base_uri": "https://localhost:8080/"
        },
        "id": "xly6oDcbT77c",
        "outputId": "90166d85-1338-4f49-e474-d5627fcab8bb"
      },
      "source": [
        "yesterday = currentDate - timedelta(days=1)\n",
        "twoDaysAgo = currentDate - timedelta(days=2)\n",
        "threeDaysAgo = currentDate - timedelta(days=3)\n",
        "#print(yesterday)\n",
        "#print(twoDaysAgo)\n",
        "\n",
        "for holo in HOLOS:\n",
        "    if (holo == 'civia'):\n",
        "        continue\n",
        "    if(holo == 'kronii'):\n",
        "      holoPoiUrl = HOLO_POI_URL.format(holo='ouro', startDate=fourDaysAgoTime, endDate=currentTime)\n",
        "      poiStatReponse = requests.get(holoPoiUrl)\n",
        "    elif(holo == 'fauna'):\n",
        "      holoPoiUrl = HOLO_POI_URL.format(holo='ceres', startDate=fourDaysAgoTime, endDate=currentTime)\n",
        "      poiStatReponse = requests.get(holoPoiUrl)\n",
        "    elif(holo == 'baelz'):\n",
        "      holoPoiUrl = HOLO_POI_URL.format(holo='hakos', startDate=fourDaysAgoTime, endDate=currentTime)\n",
        "      poiStatReponse = requests.get(holoPoiUrl)\n",
        "    elif(holo == 'luna'):\n",
        "      holoPoiUrl = HOLO_POI_URL.format(holo='himemoriluna', startDate=fourDaysAgoTime, endDate=currentTime)\n",
        "      poiStatReponse = requests.get(holoPoiUrl)\n",
        "    else:\n",
        "      holoPoiUrl = HOLO_POI_URL.format(holo=holo, startDate=fourDaysAgoTime, endDate=currentTime)\n",
        "      poiStatReponse = requests.get(holoPoiUrl)\n",
        "\n",
        "    #print(poiStatReponse.json())\n",
        "    nasDailySubCount = holoList[holo]['dailySubscriberCount']['data'][-1]\n",
        "    nasDailyViewCount = holoList[holo]['dailyViewCount']['data'][-1]\n",
        "\n",
        "    holoPoiStatCount = {}\n",
        "\n",
        "    yesterday = currentDate - timedelta(days=1)\n",
        "    twoDaysAgo = currentDate - timedelta(days=2)\n",
        "    threeDaysAgo = currentDate - timedelta(days=3)\n",
        "    \n",
        "\n",
        "    for report in poiStatReponse.json()['reports']:\n",
        "        pass\n",
        "        # print(report)\n",
        "        # print('\\n\\n\\n\\n')\n",
        "        rows = report['rows']\n",
        "        poiTodayCount = {\"time\":rows[-1][0], \"value\":rows[-1][1]}\n",
        "        poiYesterdayCount = {}\n",
        "        poiTwoDaysCount ={}\n",
        "        poiThreeDaysCount ={}\n",
        "        poiDailyCount = 0\n",
        "\n",
        "        statCounts = {}\n",
        "        statCounts['today'] = poiTodayCount\n",
        "\n",
        "        for row in reversed(range(len(rows)-1)):\n",
        "            pass\n",
        "            time = rows[row][0]\n",
        "            unixTime = time/1e3\n",
        "            # print(unixTime)\n",
        "            date = datetime.fromtimestamp(unixTime)\n",
        "            day = date.day\n",
        "            hour = date.hour\n",
        "            minutes = date.minute\n",
        "            # print(date)\n",
        "            # print(day == yesterday.day)\n",
        "            # print(hour == LOCAL_RESET_HOUR)\n",
        "            # print(minutes == LOCAL_RESET_MINUTE)\n",
        "\n",
        "            \n",
        "            if (day == yesterday.day and hour == LOCAL_RESET_HOUR and minutes == LOCAL_RESET_MINUTE):\n",
        "                poiYesterdayCount = {\"time\":rows[row][0], \"value\":rows[row][1]}\n",
        "                statCounts['yesterday'] = poiYesterdayCount\n",
        "\n",
        "            elif(day == twoDaysAgo.day and hour == LOCAL_RESET_HOUR and minutes == LOCAL_RESET_MINUTE):\n",
        "                poiTwoDaysCount = {\"time\":rows[row][0], \"value\":rows[row][1]}\n",
        "                statCounts['twoDays'] = poiTwoDaysCount\n",
        "\n",
        "            elif(day == threeDaysAgo.day and hour == LOCAL_RESET_HOUR and minutes == LOCAL_RESET_MINUTE):\n",
        "                poiThreeDaysCount = {\"time\":rows[row][0], \"value\":rows[row][1]}\n",
        "                statCounts['threeDays'] = poiThreeDaysCount\n",
        "\n",
        "        if (report['kind'] == \"youtube_channel_subscriber\"):\n",
        "            pass\n",
        "            holoPoiStatCount['subs'] = statCounts\n",
        "        elif (report['kind'] == 'youtube_channel_view'):\n",
        "            pass\n",
        "            holoPoiStatCount['views'] = statCounts\n",
        "    poiStatCount[holo] = holoPoiStatCount\n",
        "    # break\n",
        "\n"
      ],
      "execution_count": 5,
      "outputs": [
        {
          "output_type": "stream",
          "name": "stdout",
          "text": [
            "2021-10-14 06:52:54.311777\n",
            "2021-10-13 06:52:54.311777\n"
          ]
        }
      ]
    },
    {
      "cell_type": "code",
      "metadata": {
        "id": "k0N4tni0T-_J"
      },
      "source": [
        "holoBuy = []\n",
        "holoSell = []\n",
        "holoBuySmall = []\n",
        "holoSellSmall = []\n",
        "holoSubTick = []\n",
        "holoSubDown = []\n",
        "holoNotUpdated = []\n",
        "\n",
        "with open('holostats.txt', 'w') as statFile:\n",
        "\n",
        "    def PrintStats(holo):\n",
        "        holoPoiStatCount = poiStatCount[holo]\n",
        "\n",
        "        todayViews = holoPoiStatCount['views']['today']['value']\n",
        "        yesterdayViews = holoPoiStatCount['views']['yesterday']['value']\n",
        "        twoDaysViews = holoPoiStatCount['views']['twoDays']['value']\n",
        "        threeDaysViews = holoPoiStatCount['views']['threeDays']['value']\n",
        "\n",
        "        todaySubs = holoPoiStatCount['subs']['today']['value']\n",
        "        yesterdaySubs = holoPoiStatCount['subs']['yesterday']['value']\n",
        "        twoDaysSubs = holoPoiStatCount['subs']['twoDays']['value']\n",
        "        threeDaysSubs = holoPoiStatCount['subs']['threeDays']['value']\n",
        "\n",
        "        dailyViewDifference = todayViews - yesterdayViews + 1\n",
        "        yesterdayViewDifference = yesterdayViews - twoDaysViews + 1\n",
        "        twoDaysViewDifference = twoDaysViews - threeDaysViews + 1\n",
        "\n",
        "        dailySubDifference = todaySubs - yesterdaySubs\n",
        "        yesterdaySubDifference = yesterdaySubs - twoDaysSubs\n",
        "        twoDaysSubDifference = twoDaysSubs - threeDaysSubs\n",
        "\n",
        "        nasWeeklyViewCount = holoList[holo][\"weeklyViewCount\"][\"data\"][-1]\n",
        "        averageViews = int(nasWeeklyViewCount) / 7\n",
        "\n",
        "\n",
        "        theoreticalSubViews = 0\n",
        "        theoreticalYesterdaySubViews = 0\n",
        "        if(dailySubDifference / 1000 != 0):\n",
        "            theoreticalSubViews = (dailySubDifference / 1000) * SUB_TO_VIEW_VALUE\n",
        "        if(yesterdaySubDifference / 1000 != 0):\n",
        "            theoreticalYesterdaySubViews = (yesterdaySubDifference / 1000) * SUB_TO_VIEW_VALUE\n",
        "\n",
        "\n",
        "        # print(todayViews)\n",
        "        # print(yesterdayViews)\n",
        "        # print(dailyViewDifference)\n",
        "\n",
        "        # print (Fore.BLUE)\n",
        "\n",
        "        ##print(holo)\n",
        "\n",
        "        # print(Style.RESET_ALL)\n",
        "\n",
        "        holoPoiStatCount=poiStatCount[holo]\n",
        "\n",
        "        ##print(\"Today views - {views}\".format(views=todayViews))\n",
        "        ##print(\"Yesterday views - {views}\".format(views=yesterdayViews))\n",
        "        ##print(\"Daily difference - {difference}\".format(difference=(dailyViewDifference)))\n",
        "        ##print(\"Yesterday daily difference - {difference}\".format(difference=(yesterdayViewDifference)))\n",
        "        ##print(\"Day difference - {difference}\".format(difference=(dailyViewDifference - yesterdayViewDifference)))\n",
        "        if(dailyViewDifference != 1):\n",
        "            if(yesterdayViewDifference != 0):\n",
        "                difference=((float(dailyViewDifference / yesterdayViewDifference) -1) * 100)\n",
        "                #Rename himemoriluna to luna in results screen\n",
        "                if(holo=='himemoriluna'):\n",
        "                  holo='luna'\n",
        "\n",
        "                \n",
        "                if (difference > 15 and dailyViewDifference > 100000):\n",
        "                  holoBuy.append({\"1\": holo, \"2diff\": int(difference), \"3\": dailyViewDifference, \"4\":yesterdayViewDifference, \"5\":twoDaysViewDifference, \"6ave\": int(averageViews)})\n",
        "                elif (difference < -15 and dailyViewDifference - yesterdayViewDifference < -100000):\n",
        "                  holoSell.append({\"1\": holo, \"2diff\": int(difference), \"3\": dailyViewDifference, \"4\":yesterdayViewDifference, \"5\":twoDaysViewDifference, \"6ave\": int(averageViews)})\n",
        "                elif (difference > 1):\n",
        "                  holoBuySmall.append({\"1\": holo, \"2diff\": int(difference), \"3\": dailyViewDifference, \"4\":yesterdayViewDifference, \"5\":twoDaysViewDifference, \"6ave\": int(averageViews)})\n",
        "                elif (difference < -1):\n",
        "                  holoSellSmall.append({\"1\": holo, \"2diff\": int(difference), \"3\": dailyViewDifference, \"4\":yesterdayViewDifference, \"5\":twoDaysViewDifference, \"6ave\": int(averageViews)})\n",
        "\n",
        "        else:\n",
        "          holoNotUpdated.append(holo)\n",
        "                ##print(\"Daily % difference - {difference}%\".format(difference=((float(dailyViewDifference / yesterdayViewDifference) -1) * 100)))\n",
        "        ##print(\"Average weekly views: {average}\".format(average=averageViews))\n",
        "\n",
        "        ##print(\"\\nToday subs - {views}\".format(views=todaySubs))\n",
        "        ##print(\"Yesterday subs - {views}\".format(views=yesterdaySubs))\n",
        "        ##print(\"Daily difference - {difference}\".format(difference=(dailySubDifference)))\n",
        "        if (dailySubDifference > 5000):\n",
        "          holoSubTick.append({\"holo\": holo, \"subDiff\": dailySubDifference})\n",
        "        ##print(\"Yesterday daily difference - {difference}\".format(difference=(yesterdaySubDifference)))\n",
        "\n",
        "        ##print (\"\\n---------------------------------\")\n",
        "\n",
        "\n",
        "    for holo in poiStatCount:\n",
        "        PrintStats(holo)"
      ],
      "execution_count": 6,
      "outputs": []
    },
    {
      "cell_type": "code",
      "metadata": {
        "id": "YsRR3opOsxvN",
        "colab": {
          "base_uri": "https://localhost:8080/"
        },
        "outputId": "1e7def79-0b10-4a5c-f2ac-3fad7637b69c"
      },
      "source": [
        "#Buy table: lists Holos with a daily difference of over 100k views with a view growth of at least 15% from previous day\n",
        "print(\"Buy Table\\n-----------------------------------------------------------------------------\")\n",
        "for i in sorted(holoBuy, key=lambda k: k['2diff'], reverse=True):\n",
        "  if(i[\"4\"] > i[\"5\"]):\n",
        "    overbuy = \"\\033[1;32;1m\"\n",
        "  else:\n",
        "    overbuy = \"\\033[1;31;1m\"\n",
        "  if(i[\"3\"]/i[\"5\"] < 1):\n",
        "    overbuy = overbuy + \"*\"\n",
        "  print(overbuy + i[\"1\"] + \"      \\t Diff: \" + str(i[\"2diff\"]) + \"%   \\tTodays: \" + str(i[\"3\"]) + \"     \\tYest: \" + str(i[\"4\"]) + \"       \\t2D: \" + str(i[\"5\"]) + \"         \\tAve: \" + str(i[\"6ave\"]))"
      ],
      "execution_count": 15,
      "outputs": [
        {
          "output_type": "stream",
          "name": "stdout",
          "text": [
            "Buy Table\n",
            "-----------------------------------------------------------------------------\n",
            "\u001b[1;31;1mnene      \t Diff: 543%   \tTodays: 180695     \tYest: 28096       \t2D: 145537         \tAve: 48510\n",
            "\u001b[1;31;1mgura      \t Diff: 318%   \tTodays: 962603     \tYest: 230147       \t2D: 253724         \tAve: 579443\n",
            "\u001b[1;31;1mrushia      \t Diff: 276%   \tTodays: 340230     \tYest: 90466       \t2D: 310310         \tAve: 241989\n",
            "\u001b[1;31;1mpekora      \t Diff: 240%   \tTodays: 676641     \tYest: 198479       \t2D: 440093         \tAve: 431792\n",
            "\u001b[1;31;1m*kiara      \t Diff: 220%   \tTodays: 173596     \tYest: 54110       \t2D: 259080         \tAve: 163864\n",
            "\u001b[1;31;1m*fauna      \t Diff: 219%   \tTodays: 185810     \tYest: 58125       \t2D: 191671         \tAve: 108161\n",
            "\u001b[1;31;1m*irys      \t Diff: 184%   \tTodays: 147749     \tYest: 51948       \t2D: 172434         \tAve: 171517\n",
            "\u001b[1;31;1m*inanis      \t Diff: 172%   \tTodays: 157852     \tYest: 57914       \t2D: 411228         \tAve: 173688\n",
            "\u001b[1;31;1m*subaru      \t Diff: 159%   \tTodays: 314373     \tYest: 121117       \t2D: 337769         \tAve: 343847\n",
            "\u001b[1;31;1m*luna      \t Diff: 50%   \tTodays: 147967     \tYest: 98008       \t2D: 188796         \tAve: 188336\n",
            "\u001b[1;31;1m*kronii      \t Diff: 47%   \tTodays: 272814     \tYest: 184442       \t2D: 399546         \tAve: 195442\n",
            "\u001b[1;31;1mbotan      \t Diff: 37%   \tTodays: 276089     \tYest: 201007       \t2D: 205175         \tAve: 188430\n",
            "\u001b[1;31;1m*watame      \t Diff: 36%   \tTodays: 258588     \tYest: 189562       \t2D: 357523         \tAve: 188377\n"
          ]
        }
      ]
    },
    {
      "cell_type": "code",
      "metadata": {
        "id": "mrbazN6rx_K8",
        "colab": {
          "base_uri": "https://localhost:8080/"
        },
        "outputId": "59601b4b-e46f-4456-b1b2-2dcf3408019b"
      },
      "source": [
        "#Small Buy table: Holos with at least 1% view growth from previous day, but may not have significant view numbers (shitcoins)\n",
        "print(\"Small Buy Table\\n-----------------------------------------------------------------------------\")\n",
        "for i in sorted(holoBuySmall, key=lambda k: k['2diff'], reverse=True):\n",
        "  if(i[\"4\"] > i[\"5\"]):\n",
        "    overbuy = \"\\033[1;32;1m\"\n",
        "  else:\n",
        "    overbuy = \"\\033[1;31;1m\"\n",
        "  if(i[\"3\"]/i[\"5\"] < 1):\n",
        "    overbuy = overbuy + \"*\"\n",
        "  print(overbuy + i[\"1\"] + \"      \\t Diff: \" + str(i[\"2diff\"]) + \"%   \\tTodays: \" + str(i[\"3\"]) + \"     \\tYest: \" + str(i[\"4\"]) + \"       \\t2D: \" + str(i[\"5\"]) + \"         \\tAve: \" + str(i[\"6ave\"]))"
      ],
      "execution_count": 16,
      "outputs": [
        {
          "output_type": "stream",
          "name": "stdout",
          "text": [
            "Small Buy Table\n",
            "-----------------------------------------------------------------------------\n",
            "\u001b[1;31;1mpochimaru      \t Diff: 721%   \tTodays: 21337     \tYest: 2596       \t2D: 2602         \tAve: 10472\n",
            "\u001b[1;31;1miofi      \t Diff: 413%   \tTodays: 32841     \tYest: 6394       \t2D: 8803         \tAve: 17113\n",
            "\u001b[1;31;1mnana      \t Diff: 136%   \tTodays: 45457     \tYest: 19250       \t2D: 19892         \tAve: 19535\n",
            "\u001b[1;31;1mreine      \t Diff: 102%   \tTodays: 94213     \tYest: 46535       \t2D: 89361         \tAve: 64456\n",
            "\u001b[1;32;1mchoco      \t Diff: 94%   \tTodays: 90315     \tYest: 46419       \t2D: 16466         \tAve: 33786\n",
            "\u001b[1;31;1mmoona      \t Diff: 36%   \tTodays: 91423     \tYest: 66919       \t2D: 76409         \tAve: 83970\n",
            "\u001b[1;32;1mnabi      \t Diff: 25%   \tTodays: 5142     \tYest: 4108       \t2D: 3833         \tAve: 4868\n",
            "\u001b[1;31;1mazki      \t Diff: 15%   \tTodays: 20573     \tYest: 17873       \t2D: 18728         \tAve: 19322\n",
            "\u001b[1;31;1mmel      \t Diff: 11%   \tTodays: 10337     \tYest: 9243       \t2D: 9836         \tAve: 10385\n",
            "\u001b[1;31;1mrisu      \t Diff: 9%   \tTodays: 11707     \tYest: 10708       \t2D: 11245         \tAve: 19078\n",
            "\u001b[1;31;1mhaato      \t Diff: 8%   \tTodays: 63064     \tYest: 58371       \t2D: 61551         \tAve: 53506\n",
            "\u001b[1;31;1mayame      \t Diff: 8%   \tTodays: 75075     \tYest: 69054       \t2D: 71223         \tAve: 76722\n",
            "\u001b[1;31;1mmarine      \t Diff: 3%   \tTodays: 147165     \tYest: 141710       \t2D: 145423         \tAve: 159559\n",
            "\u001b[1;32;1mcalliope      \t Diff: 2%   \tTodays: 574261     \tYest: 560398       \t2D: 444596         \tAve: 497687\n"
          ]
        }
      ]
    },
    {
      "cell_type": "code",
      "metadata": {
        "id": "WoHX9Mdxls4A",
        "colab": {
          "base_uri": "https://localhost:8080/"
        },
        "outputId": "c2dd26b9-a631-448c-bf8a-77ed6999d8b9"
      },
      "source": [
        "#Sell table: List of Holos whose daily view numbers dropped by more than 100k views and have a drop of at least 15% view growth\n",
        "print(\"Sell Table\\n-----------------------------------------------------------------------------\")\n",
        "for i in sorted(holoSell, key=lambda k: k['2diff']):\n",
        "  if(i[\"4\"] > i[\"5\"]):\n",
        "    overbuy = \"\\033[1;32;1m\"\n",
        "  else:\n",
        "    overbuy = \"\\033[1;31;1m\"\n",
        "  if(i[\"3\"]/i[\"5\"] > 1):\n",
        "    overbuy = overbuy + \"*\"\n",
        "  print(overbuy + i[\"1\"] + \"      \\t Diff: \" + str(i[\"2diff\"]) + \"%   \\tTodays: \" + str(i[\"3\"]) + \"     \\tYest: \" + str(i[\"4\"]) + \"       \\t2D: \" + str(i[\"5\"]) + \"         \\tAve: \" + str(i[\"6ave\"]))"
      ],
      "execution_count": 17,
      "outputs": [
        {
          "output_type": "stream",
          "name": "stdout",
          "text": [
            "Sell Table\n",
            "-----------------------------------------------------------------------------\n",
            "\u001b[1;32;1mroboco      \t Diff: -83%   \tTodays: 52235     \tYest: 325746       \t2D: 91980         \tAve: 125029\n",
            "\u001b[1;32;1mflare      \t Diff: -72%   \tTodays: 80417     \tYest: 291497       \t2D: 274171         \tAve: 179595\n",
            "\u001b[1;31;1mamelia      \t Diff: -67%   \tTodays: 73599     \tYest: 224947       \t2D: 275003         \tAve: 176153\n",
            "\u001b[1;32;1mlamy      \t Diff: -65%   \tTodays: 60443     \tYest: 173631       \t2D: 158738         \tAve: 178715\n",
            "\u001b[1;32;1m*mio      \t Diff: -57%   \tTodays: 102439     \tYest: 241587       \t2D: 48912         \tAve: 147303\n",
            "\u001b[1;31;1mpolka      \t Diff: -49%   \tTodays: 128531     \tYest: 255419       \t2D: 311761         \tAve: 268624\n",
            "\u001b[1;32;1mfubuki      \t Diff: -47%   \tTodays: 121899     \tYest: 230805       \t2D: 124314         \tAve: 208471\n",
            "\u001b[1;32;1m*ollie      \t Diff: -46%   \tTodays: 204141     \tYest: 378900       \t2D: 168823         \tAve: 133267\n",
            "\u001b[1;32;1m*kanata      \t Diff: -35%   \tTodays: 197850     \tYest: 305217       \t2D: 187564         \tAve: 248634\n",
            "\u001b[1;32;1msuisei      \t Diff: -20%   \tTodays: 423379     \tYest: 530715       \t2D: 423407         \tAve: 545121\n"
          ]
        }
      ]
    },
    {
      "cell_type": "code",
      "metadata": {
        "id": "qSWjNbZfyBjw",
        "colab": {
          "base_uri": "https://localhost:8080/"
        },
        "outputId": "dee18e35-cfd4-4776-a050-d2121daef68d"
      },
      "source": [
        "#Small sell table: list of Holos with at least 1% drop in daily views and a day to day change of less than 100k\n",
        "print(\"Small Sell Table\\n-----------------------------------------------------------------------------\")\n",
        "for i in sorted(holoSellSmall, key=lambda k: k['2diff']):\n",
        "  if(i[\"4\"] > i[\"5\"]):\n",
        "    overbuy = \"\\033[1;32;1m\"\n",
        "  else:\n",
        "    overbuy = \"\\033[1;31;1m\"\n",
        "  if(i[\"3\"]/(i[\"5\"]+1) > 1):\n",
        "    overbuy = overbuy + \"*\"\n",
        "  print(overbuy + i[\"1\"] + \"      \\t Diff: \" + str(i[\"2diff\"]) + \"%   \\tTodays: \" + str(i[\"3\"]) + \"     \\tYest: \" + str(i[\"4\"]) + \"       \\t2D: \" + str(i[\"5\"]) + \"         \\tAve: \" + str(i[\"6ave\"]))"
      ],
      "execution_count": 18,
      "outputs": [
        {
          "output_type": "stream",
          "name": "stdout",
          "text": [
            "Small Sell Table\n",
            "-----------------------------------------------------------------------------\n",
            "\u001b[1;32;1m*sana      \t Diff: -83%   \tTodays: 15282     \tYest: 91969       \t2D: 11282         \tAve: 38830\n",
            "\u001b[1;32;1msora      \t Diff: -52%   \tTodays: 49937     \tYest: 104562       \t2D: 87121         \tAve: 106108\n",
            "\u001b[1;31;1mayamy      \t Diff: -49%   \tTodays: 979     \tYest: 1923       \t2D: 4090         \tAve: 3214\n",
            "\u001b[1;31;1mnoel      \t Diff: -36%   \tTodays: 111001     \tYest: 174839       \t2D: 193168         \tAve: 189959\n",
            "\u001b[1;32;1m*melfissa      \t Diff: -30%   \tTodays: 14695     \tYest: 21184       \t2D: 4958         \tAve: 17485\n",
            "\u001b[1;31;1mbaelz      \t Diff: -28%   \tTodays: 31033     \tYest: 43324       \t2D: 191527         \tAve: 178677\n",
            "\u001b[1;31;1mkorone      \t Diff: -20%   \tTodays: 94518     \tYest: 119171       \t2D: 315376         \tAve: 222917\n",
            "\u001b[1;31;1maki      \t Diff: -17%   \tTodays: 20124     \tYest: 24334       \t2D: 46241         \tAve: 62503\n",
            "\u001b[1;32;1mtowa      \t Diff: -17%   \tTodays: 163672     \tYest: 197494       \t2D: 174809         \tAve: 175894\n",
            "\u001b[1;31;1mmumei      \t Diff: -16%   \tTodays: 30013     \tYest: 36037       \t2D: 167884         \tAve: 78984\n",
            "\u001b[1;32;1m*hololive      \t Diff: -11%   \tTodays: 770345     \tYest: 867050       \t2D: 761814         \tAve: 803950\n",
            "\u001b[1;32;1m*miko      \t Diff: -10%   \tTodays: 392626     \tYest: 440443       \t2D: 338410         \tAve: 287228\n",
            "\u001b[1;32;1m*matsuri      \t Diff: -10%   \tTodays: 130169     \tYest: 145079       \t2D: 64937         \tAve: 113468\n",
            "\u001b[1;31;1mokayu      \t Diff: -8%   \tTodays: 188851     \tYest: 205744       \t2D: 273247         \tAve: 189842\n",
            "\u001b[1;31;1mshion      \t Diff: -7%   \tTodays: 76580     \tYest: 83174       \t2D: 309359         \tAve: 183598\n",
            "\u001b[1;32;1m*coco      \t Diff: -1%   \tTodays: 31860     \tYest: 32254       \t2D: 31040         \tAve: 32771\n"
          ]
        }
      ]
    },
    {
      "cell_type": "code",
      "metadata": {
        "colab": {
          "base_uri": "https://localhost:8080/"
        },
        "id": "oTLIPUhhbh9z",
        "outputId": "d07ffc4b-4c4d-4974-f995-0fb615117d36"
      },
      "source": [
        "#Holos that haven't updated yet for the day\n",
        "holoNotUpdated"
      ],
      "execution_count": 11,
      "outputs": [
        {
          "output_type": "execute_result",
          "data": {
            "text/plain": [
              "[]"
            ]
          },
          "metadata": {},
          "execution_count": 11
        }
      ]
    },
    {
      "cell_type": "code",
      "metadata": {
        "id": "yjeERmfLrK6j",
        "colab": {
          "base_uri": "https://localhost:8080/"
        },
        "outputId": "fe22e8b6-55b9-4cd6-c61d-16e02d7836dd"
      },
      "source": [
        "#Holos with a subtick of > 5000\n",
        "holoSubTick"
      ],
      "execution_count": 12,
      "outputs": [
        {
          "output_type": "execute_result",
          "data": {
            "text/plain": [
              "[{'holo': 'rushia', 'subDiff': 10000}, {'holo': 'gura', 'subDiff': 10000}]"
            ]
          },
          "metadata": {},
          "execution_count": 12
        }
      ]
    },
    {
      "cell_type": "code",
      "metadata": {
        "id": "n7ArCnFzrgbD",
        "colab": {
          "base_uri": "https://localhost:8080/"
        },
        "outputId": "cb101124-af96-4d50-bb73-48d3a3352170"
      },
      "source": [
        "#Holos both with a significant subtick and on the buy table (BUYBUYBUY)\n",
        "for item in holoSubTick:\n",
        "  for ele in holoBuy:\n",
        "    if (item[\"holo\"] == ele[\"1\"]):\n",
        "      print(item[\"holo\"])"
      ],
      "execution_count": 13,
      "outputs": [
        {
          "output_type": "stream",
          "name": "stdout",
          "text": [
            "rushia\n",
            "gura\n"
          ]
        }
      ]
    }
  ]
}